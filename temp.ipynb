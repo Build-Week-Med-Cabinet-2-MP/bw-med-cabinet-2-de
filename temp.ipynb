{
 "cells": [
  {
   "cell_type": "code",
   "execution_count": 2,
   "metadata": {},
   "outputs": [],
   "source": [
    "import pandas as pd\n",
    "import json\n",
    "\n",
    "strains = pd.read_csv('https://raw.githubusercontent.com/Build-Week-Med-Cabinet-2-MP/bw-med-cabinet-2-ml/data-generation/data/CLEAN_WMS_2020_05_24.csv')\n",
    "\n",
    "strains.to_json('strains.json', orient='records')"
   ]
  },
  {
   "cell_type": "code",
   "execution_count": 10,
   "metadata": {},
   "outputs": [
    {
     "output_type": "stream",
     "name": "stdout",
     "text": "0\n"
    }
   ],
   "source": [
    "import json\n",
    "\n",
    "# opening the json file\n",
    "with open('strains.json') as f:\n",
    "    strains_dict = json.loads(f.read())\n",
    "    print(strains_dict[0]['Sweet'])"
   ]
  },
  {
   "cell_type": "code",
   "execution_count": 13,
   "metadata": {},
   "outputs": [
    {
     "output_type": "execute_result",
     "data": {
      "text/plain": "                    name                                        description  \\\n0               24K Gold  24K Gold, also known as 24K or Kosher Tangie, ...   \n1            303 OG Kush  303 OG Kush is a strain with various sources o...   \n2  3 Kings (Three Kings)  While the original breeder of 3 Kings is unkno...   \n3               3X Crazy  3X Crazy, also known as Insane OG or Optimus P...   \n4               501st OG  With its Kush lineage, 501st OG is a stout and...   \n5             9lb Hammer  9lb Hammer (also 9 Pound Hammer) was created w...   \n6            Abracadabra  Little information exists online regarding the...   \n7             Abusive OG  Abusive OG, or simply Abusive, was created or ...   \n8          Acapulco Gold  While its exact genetics remain a mystery, Aca...   \n9                  AC/DC  ACDC is a phenotype of the high-CBD strain Can...   \n\n   Ammonia  Apple  Apricot  Berry  Blue Cheese  Blueberry  Cheese  Chemical  \\\n0        0      0        0      0            0          1       0         0   \n1        0      0        0      1            0          0       0         0   \n2        0      1        0      0            1          0       0         0   \n3        0      0        0      1            0          1       0         0   \n4        0      0        0      0            0          0       0         0   \n5        1      1        0      0            0          0       0         0   \n6        0      0        0      0            0          0       0         0   \n7        0      1        1      0            0          0       0         0   \n8        0      0        0      0            0          1       0         0   \n9        0      0        0      0            1          0       0         0   \n\n   ...  Happy  Hungry  Relaxed  Sleepy  Talkative  Tingly  Uplifted  Hybrid  \\\n0  ...      0       0        1       0          0       0         0       1   \n1  ...      1       0        1       0          0       0         0       1   \n2  ...      0       1        0       0          0       0         0       1   \n3  ...      1       0        1       0          0       0         0       1   \n4  ...      0       0        1       0          0       0         0       1   \n5  ...      0       0        1       1          0       0         0       1   \n6  ...      0       0        1       1          0       0         0       1   \n7  ...      0       0        1       0          0       0         0       1   \n8  ...      0       0        0       0          0       0         0       1   \n9  ...      1       0        1       0          0       0         1       1   \n\n   Indica  Sativa  \n0       0       0  \n1       0       0  \n2       0       0  \n3       0       0  \n4       0       0  \n5       0       0  \n6       0       0  \n7       0       0  \n8       0       0  \n9       0       0  \n\n[10 rows x 59 columns]",
      "text/html": "<div>\n<style scoped>\n    .dataframe tbody tr th:only-of-type {\n        vertical-align: middle;\n    }\n\n    .dataframe tbody tr th {\n        vertical-align: top;\n    }\n\n    .dataframe thead th {\n        text-align: right;\n    }\n</style>\n<table border=\"1\" class=\"dataframe\">\n  <thead>\n    <tr style=\"text-align: right;\">\n      <th></th>\n      <th>name</th>\n      <th>description</th>\n      <th>Ammonia</th>\n      <th>Apple</th>\n      <th>Apricot</th>\n      <th>Berry</th>\n      <th>Blue Cheese</th>\n      <th>Blueberry</th>\n      <th>Cheese</th>\n      <th>Chemical</th>\n      <th>...</th>\n      <th>Happy</th>\n      <th>Hungry</th>\n      <th>Relaxed</th>\n      <th>Sleepy</th>\n      <th>Talkative</th>\n      <th>Tingly</th>\n      <th>Uplifted</th>\n      <th>Hybrid</th>\n      <th>Indica</th>\n      <th>Sativa</th>\n    </tr>\n  </thead>\n  <tbody>\n    <tr>\n      <th>0</th>\n      <td>24K Gold</td>\n      <td>24K Gold, also known as 24K or Kosher Tangie, ...</td>\n      <td>0</td>\n      <td>0</td>\n      <td>0</td>\n      <td>0</td>\n      <td>0</td>\n      <td>1</td>\n      <td>0</td>\n      <td>0</td>\n      <td>...</td>\n      <td>0</td>\n      <td>0</td>\n      <td>1</td>\n      <td>0</td>\n      <td>0</td>\n      <td>0</td>\n      <td>0</td>\n      <td>1</td>\n      <td>0</td>\n      <td>0</td>\n    </tr>\n    <tr>\n      <th>1</th>\n      <td>303 OG Kush</td>\n      <td>303 OG Kush is a strain with various sources o...</td>\n      <td>0</td>\n      <td>0</td>\n      <td>0</td>\n      <td>1</td>\n      <td>0</td>\n      <td>0</td>\n      <td>0</td>\n      <td>0</td>\n      <td>...</td>\n      <td>1</td>\n      <td>0</td>\n      <td>1</td>\n      <td>0</td>\n      <td>0</td>\n      <td>0</td>\n      <td>0</td>\n      <td>1</td>\n      <td>0</td>\n      <td>0</td>\n    </tr>\n    <tr>\n      <th>2</th>\n      <td>3 Kings (Three Kings)</td>\n      <td>While the original breeder of 3 Kings is unkno...</td>\n      <td>0</td>\n      <td>1</td>\n      <td>0</td>\n      <td>0</td>\n      <td>1</td>\n      <td>0</td>\n      <td>0</td>\n      <td>0</td>\n      <td>...</td>\n      <td>0</td>\n      <td>1</td>\n      <td>0</td>\n      <td>0</td>\n      <td>0</td>\n      <td>0</td>\n      <td>0</td>\n      <td>1</td>\n      <td>0</td>\n      <td>0</td>\n    </tr>\n    <tr>\n      <th>3</th>\n      <td>3X Crazy</td>\n      <td>3X Crazy, also known as Insane OG or Optimus P...</td>\n      <td>0</td>\n      <td>0</td>\n      <td>0</td>\n      <td>1</td>\n      <td>0</td>\n      <td>1</td>\n      <td>0</td>\n      <td>0</td>\n      <td>...</td>\n      <td>1</td>\n      <td>0</td>\n      <td>1</td>\n      <td>0</td>\n      <td>0</td>\n      <td>0</td>\n      <td>0</td>\n      <td>1</td>\n      <td>0</td>\n      <td>0</td>\n    </tr>\n    <tr>\n      <th>4</th>\n      <td>501st OG</td>\n      <td>With its Kush lineage, 501st OG is a stout and...</td>\n      <td>0</td>\n      <td>0</td>\n      <td>0</td>\n      <td>0</td>\n      <td>0</td>\n      <td>0</td>\n      <td>0</td>\n      <td>0</td>\n      <td>...</td>\n      <td>0</td>\n      <td>0</td>\n      <td>1</td>\n      <td>0</td>\n      <td>0</td>\n      <td>0</td>\n      <td>0</td>\n      <td>1</td>\n      <td>0</td>\n      <td>0</td>\n    </tr>\n    <tr>\n      <th>5</th>\n      <td>9lb Hammer</td>\n      <td>9lb Hammer (also 9 Pound Hammer) was created w...</td>\n      <td>1</td>\n      <td>1</td>\n      <td>0</td>\n      <td>0</td>\n      <td>0</td>\n      <td>0</td>\n      <td>0</td>\n      <td>0</td>\n      <td>...</td>\n      <td>0</td>\n      <td>0</td>\n      <td>1</td>\n      <td>1</td>\n      <td>0</td>\n      <td>0</td>\n      <td>0</td>\n      <td>1</td>\n      <td>0</td>\n      <td>0</td>\n    </tr>\n    <tr>\n      <th>6</th>\n      <td>Abracadabra</td>\n      <td>Little information exists online regarding the...</td>\n      <td>0</td>\n      <td>0</td>\n      <td>0</td>\n      <td>0</td>\n      <td>0</td>\n      <td>0</td>\n      <td>0</td>\n      <td>0</td>\n      <td>...</td>\n      <td>0</td>\n      <td>0</td>\n      <td>1</td>\n      <td>1</td>\n      <td>0</td>\n      <td>0</td>\n      <td>0</td>\n      <td>1</td>\n      <td>0</td>\n      <td>0</td>\n    </tr>\n    <tr>\n      <th>7</th>\n      <td>Abusive OG</td>\n      <td>Abusive OG, or simply Abusive, was created or ...</td>\n      <td>0</td>\n      <td>1</td>\n      <td>1</td>\n      <td>0</td>\n      <td>0</td>\n      <td>0</td>\n      <td>0</td>\n      <td>0</td>\n      <td>...</td>\n      <td>0</td>\n      <td>0</td>\n      <td>1</td>\n      <td>0</td>\n      <td>0</td>\n      <td>0</td>\n      <td>0</td>\n      <td>1</td>\n      <td>0</td>\n      <td>0</td>\n    </tr>\n    <tr>\n      <th>8</th>\n      <td>Acapulco Gold</td>\n      <td>While its exact genetics remain a mystery, Aca...</td>\n      <td>0</td>\n      <td>0</td>\n      <td>0</td>\n      <td>0</td>\n      <td>0</td>\n      <td>1</td>\n      <td>0</td>\n      <td>0</td>\n      <td>...</td>\n      <td>0</td>\n      <td>0</td>\n      <td>0</td>\n      <td>0</td>\n      <td>0</td>\n      <td>0</td>\n      <td>0</td>\n      <td>1</td>\n      <td>0</td>\n      <td>0</td>\n    </tr>\n    <tr>\n      <th>9</th>\n      <td>AC/DC</td>\n      <td>ACDC is a phenotype of the high-CBD strain Can...</td>\n      <td>0</td>\n      <td>0</td>\n      <td>0</td>\n      <td>0</td>\n      <td>1</td>\n      <td>0</td>\n      <td>0</td>\n      <td>0</td>\n      <td>...</td>\n      <td>1</td>\n      <td>0</td>\n      <td>1</td>\n      <td>0</td>\n      <td>0</td>\n      <td>0</td>\n      <td>1</td>\n      <td>1</td>\n      <td>0</td>\n      <td>0</td>\n    </tr>\n  </tbody>\n</table>\n<p>10 rows × 59 columns</p>\n</div>"
     },
     "metadata": {},
     "execution_count": 13
    }
   ],
   "source": [
    "strains.head(10)"
   ]
  },
  {
   "cell_type": "code",
   "execution_count": 12,
   "metadata": {},
   "outputs": [
    {
     "output_type": "execute_result",
     "data": {
      "text/plain": "Index(['name', 'description', 'Ammonia', 'Apple', 'Apricot', 'Berry',\n       'Blue Cheese', 'Blueberry', 'Cheese', 'Chemical', 'Chestnut', 'Citrus',\n       'Coffee', 'Diesel', 'Earthy', 'Flowery', 'Grape', 'Grapefruit', 'Honey',\n       'Lavender', 'Lemon', 'Lime', 'Mango', 'Mint', 'Nutty', 'Orange',\n       'Pepper', 'Pine', 'Pineapple', 'Plum', 'Pungent', 'Sage', 'Skunk',\n       'Spicy/Herbal', 'Strawberry', 'Sweet', 'Tar', 'Tea', 'Tobacco',\n       'Tree Fruit', 'Tropical', 'Vanilla', 'Woody', 'Aroused', 'Creative',\n       'Energetic', 'Euphoric', 'Focused', 'Giggly', 'Happy', 'Hungry',\n       'Relaxed', 'Sleepy', 'Talkative', 'Tingly', 'Uplifted', 'Hybrid',\n       'Indica', 'Sativa'],\n      dtype='object')"
     },
     "metadata": {},
     "execution_count": 12
    }
   ],
   "source": [
    "strains.columns"
   ]
  },
  {
   "cell_type": "code",
   "execution_count": 14,
   "metadata": {},
   "outputs": [],
   "source": [
    "for_brandon = pd.read_csv('forbrandon.csv')\n",
    "\n",
    "for_brandon.to_json('for_brandon.json', orient='records')\n",
    "q = eval(for_brandon)"
   ]
  },
  {
   "cell_type": "code",
   "execution_count": 15,
   "metadata": {},
   "outputs": [
    {
     "output_type": "execute_result",
     "data": {
      "text/plain": "                    name                                        description  \\\n0               24K Gold  24K Gold, also known as 24K or Kosher Tangie, ...   \n1            303 OG Kush  303 OG Kush is a strain with various sources o...   \n2  3 Kings (Three Kings)  While the original breeder of 3 Kings is unkno...   \n3               3X Crazy  3X Crazy, also known as Insane OG or Optimus P...   \n4               501st OG  With its Kush lineage, 501st OG is a stout and...   \n\n                                  flavors                             effects  \n0  ['Blueberry', 'Mango', 'Spicy/Herbal']   ['Creative', 'Giggly', 'Relaxed']  \n1        ['Berry', 'Citrus', 'Pineapple']   ['Energetic', 'Happy', 'Relaxed']  \n2      ['Apple', 'Blue Cheese', 'Diesel']  ['Energetic', 'Focused', 'Hungry']  \n3         ['Berry', 'Blueberry', 'Lemon']   ['Energetic', 'Happy', 'Relaxed']  \n4          ['Diesel', 'Flowery', 'Skunk']    ['Aroused', 'Giggly', 'Relaxed']  ",
      "text/html": "<div>\n<style scoped>\n    .dataframe tbody tr th:only-of-type {\n        vertical-align: middle;\n    }\n\n    .dataframe tbody tr th {\n        vertical-align: top;\n    }\n\n    .dataframe thead th {\n        text-align: right;\n    }\n</style>\n<table border=\"1\" class=\"dataframe\">\n  <thead>\n    <tr style=\"text-align: right;\">\n      <th></th>\n      <th>name</th>\n      <th>description</th>\n      <th>flavors</th>\n      <th>effects</th>\n    </tr>\n  </thead>\n  <tbody>\n    <tr>\n      <th>0</th>\n      <td>24K Gold</td>\n      <td>24K Gold, also known as 24K or Kosher Tangie, ...</td>\n      <td>['Blueberry', 'Mango', 'Spicy/Herbal']</td>\n      <td>['Creative', 'Giggly', 'Relaxed']</td>\n    </tr>\n    <tr>\n      <th>1</th>\n      <td>303 OG Kush</td>\n      <td>303 OG Kush is a strain with various sources o...</td>\n      <td>['Berry', 'Citrus', 'Pineapple']</td>\n      <td>['Energetic', 'Happy', 'Relaxed']</td>\n    </tr>\n    <tr>\n      <th>2</th>\n      <td>3 Kings (Three Kings)</td>\n      <td>While the original breeder of 3 Kings is unkno...</td>\n      <td>['Apple', 'Blue Cheese', 'Diesel']</td>\n      <td>['Energetic', 'Focused', 'Hungry']</td>\n    </tr>\n    <tr>\n      <th>3</th>\n      <td>3X Crazy</td>\n      <td>3X Crazy, also known as Insane OG or Optimus P...</td>\n      <td>['Berry', 'Blueberry', 'Lemon']</td>\n      <td>['Energetic', 'Happy', 'Relaxed']</td>\n    </tr>\n    <tr>\n      <th>4</th>\n      <td>501st OG</td>\n      <td>With its Kush lineage, 501st OG is a stout and...</td>\n      <td>['Diesel', 'Flowery', 'Skunk']</td>\n      <td>['Aroused', 'Giggly', 'Relaxed']</td>\n    </tr>\n  </tbody>\n</table>\n</div>"
     },
     "metadata": {},
     "execution_count": 15
    }
   ],
   "source": [
    "for_brandon.head()"
   ]
  },
  {
   "cell_type": "code",
   "execution_count": 19,
   "metadata": {},
   "outputs": [
    {
     "output_type": "execute_result",
     "data": {
      "text/plain": "name           object\ndescription    object\nflavors        object\neffects        object\ndtype: object"
     },
     "metadata": {},
     "execution_count": 19
    }
   ],
   "source": [
    "for_brandon.dtypes"
   ]
  },
  {
   "cell_type": "code",
   "execution_count": 29,
   "metadata": {},
   "outputs": [
    {
     "output_type": "execute_result",
     "data": {
      "text/plain": "list"
     },
     "metadata": {},
     "execution_count": 29
    }
   ],
   "source": [
    "q = for_brandon.iloc[0]['flavors']\n",
    "q = eval(for_brandon.iloc[0]['flavors'])\n",
    "q\n",
    "type(q)"
   ]
  },
  {
   "cell_type": "code",
   "execution_count": 31,
   "metadata": {},
   "outputs": [],
   "source": [
    "def list_convert(string):\n",
    "    return eval(string)"
   ]
  },
  {
   "cell_type": "code",
   "execution_count": 35,
   "metadata": {},
   "outputs": [],
   "source": [
    "for_brandon['flavors'] = for_brandon.apply(lambda x: list_convert(x['flavors']), axis=1)"
   ]
  },
  {
   "cell_type": "code",
   "execution_count": 36,
   "metadata": {},
   "outputs": [],
   "source": [
    "for_brandon['effects'] = for_brandon.apply(lambda x: list_convert(x['effects']), axis=1)"
   ]
  },
  {
   "cell_type": "code",
   "execution_count": 38,
   "metadata": {},
   "outputs": [
    {
     "output_type": "execute_result",
     "data": {
      "text/plain": "name           object\ndescription    object\nflavors        object\neffects        object\ndtype: object"
     },
     "metadata": {},
     "execution_count": 38
    }
   ],
   "source": [
    "for_brandon.dtypes"
   ]
  },
  {
   "cell_type": "code",
   "execution_count": 40,
   "metadata": {},
   "outputs": [
    {
     "output_type": "execute_result",
     "data": {
      "text/plain": "'Blueberry'"
     },
     "metadata": {},
     "execution_count": 40
    }
   ],
   "source": [
    "for_brandon.iloc[0]['flavors'][0]"
   ]
  },
  {
   "cell_type": "code",
   "execution_count": null,
   "metadata": {},
   "outputs": [],
   "source": []
  }
 ],
 "metadata": {
  "language_info": {
   "codemirror_mode": {
    "name": "ipython",
    "version": 3
   },
   "file_extension": ".py",
   "mimetype": "text/x-python",
   "name": "python",
   "nbconvert_exporter": "python",
   "pygments_lexer": "ipython3",
   "version": "3.7.7-final"
  },
  "orig_nbformat": 2,
  "kernelspec": {
   "name": "python3",
   "display_name": "Python 3"
  }
 },
 "nbformat": 4,
 "nbformat_minor": 2
}